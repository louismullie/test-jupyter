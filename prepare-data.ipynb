{
 "cells": [
  {
   "cell_type": "code",
   "execution_count": 1,
   "id": "84c95936-c04c-49e2-ad5e-e39ca1797394",
   "metadata": {
    "tags": []
   },
   "outputs": [
    {
     "name": "stdout",
     "output_type": "stream",
     "text": [
      "Collecting wandb\n",
      "  Downloading wandb-0.15.4-py3-none-any.whl (2.1 MB)\n",
      "\u001b[2K     \u001b[90m━━━━━━━━━━━━━━━━━━━━━━━━━━━━━━━━━━━━━━━━\u001b[0m \u001b[32m2.1/2.1 MB\u001b[0m \u001b[31m29.1 MB/s\u001b[0m eta \u001b[36m0:00:00\u001b[0m00:01\u001b[0m00:01\u001b[0m\n",
      "\u001b[?25hCollecting pathling\n",
      "  Downloading pathling-6.2.2-py2.py3-none-any.whl (57.1 MB)\n",
      "\u001b[2K     \u001b[90m━━━━━━━━━━━━━━━━━━━━━━━━━━━━━━━━━━━━━━━━\u001b[0m \u001b[32m57.1/57.1 MB\u001b[0m \u001b[31m26.7 MB/s\u001b[0m eta \u001b[36m0:00:00\u001b[0m00:01\u001b[0m00:01\u001b[0m\n",
      "\u001b[?25hCollecting pyspark\n",
      "  Downloading pyspark-3.4.1.tar.gz (310.8 MB)\n",
      "\u001b[2K     \u001b[90m━━━━━━━━━━━━━━━━━━━━━━━━━━━━━━━━━━━━━━━\u001b[0m \u001b[32m310.8/310.8 MB\u001b[0m \u001b[31m8.1 MB/s\u001b[0m eta \u001b[36m0:00:00\u001b[0m00:01\u001b[0m00:01\u001b[0m\n",
      "\u001b[?25h  Preparing metadata (setup.py) ... \u001b[?25ldone\n",
      "\u001b[?25hCollecting nibabel\n",
      "  Downloading nibabel-5.1.0-py3-none-any.whl (3.3 MB)\n",
      "\u001b[2K     \u001b[90m━━━━━━━━━━━━━━━━━━━━━━━━━━━━━━━━━━━━━━━━\u001b[0m \u001b[32m3.3/3.3 MB\u001b[0m \u001b[31m28.3 MB/s\u001b[0m eta \u001b[36m0:00:00\u001b[0m00:01\u001b[0m00:01\u001b[0m\n",
      "\u001b[?25hCollecting minio\n",
      "  Downloading minio-7.1.15-py3-none-any.whl (77 kB)\n",
      "\u001b[2K     \u001b[90m━━━━━━━━━━━━━━━━━━━━━━━━━━━━━━━━━━━━━━━━\u001b[0m \u001b[32m77.4/77.4 kB\u001b[0m \u001b[31m32.0 MB/s\u001b[0m eta \u001b[36m0:00:00\u001b[0m\n",
      "\u001b[?25hRequirement already satisfied: requests in /opt/conda/lib/python3.10/site-packages (2.29.0)\n",
      "Collecting boto3\n",
      "  Downloading boto3-1.26.161-py3-none-any.whl (135 kB)\n",
      "\u001b[2K     \u001b[90m━━━━━━━━━━━━━━━━━━━━━━━━━━━━━━━━━━━━━━\u001b[0m \u001b[32m135.9/135.9 kB\u001b[0m \u001b[31m27.4 MB/s\u001b[0m eta \u001b[36m0:00:00\u001b[0m\n",
      "\u001b[?25hRequirement already satisfied: Click!=8.0.0,>=7.0 in /opt/conda/lib/python3.10/site-packages (from wandb) (8.1.3)\n",
      "Requirement already satisfied: GitPython!=3.1.29,>=1.0.0 in /opt/conda/lib/python3.10/site-packages (from wandb) (3.1.31)\n",
      "Requirement already satisfied: psutil>=5.0.0 in /opt/conda/lib/python3.10/site-packages (from wandb) (5.9.5)\n",
      "Collecting sentry-sdk>=1.0.0 (from wandb)\n",
      "  Downloading sentry_sdk-1.26.0-py2.py3-none-any.whl (209 kB)\n",
      "\u001b[2K     \u001b[90m━━━━━━━━━━━━━━━━━━━━━━━━━━━━━━━━━━━━━━\u001b[0m \u001b[32m209.4/209.4 kB\u001b[0m \u001b[31m61.2 MB/s\u001b[0m eta \u001b[36m0:00:00\u001b[0m\n",
      "\u001b[?25hCollecting docker-pycreds>=0.4.0 (from wandb)\n",
      "  Downloading docker_pycreds-0.4.0-py2.py3-none-any.whl (9.0 kB)\n",
      "Requirement already satisfied: PyYAML in /opt/conda/lib/python3.10/site-packages (from wandb) (6.0)\n",
      "Collecting pathtools (from wandb)\n",
      "  Downloading pathtools-0.1.2.tar.gz (11 kB)\n",
      "  Preparing metadata (setup.py) ... \u001b[?25ldone\n",
      "\u001b[?25hCollecting setproctitle (from wandb)\n",
      "  Downloading setproctitle-1.3.2-cp310-cp310-manylinux_2_17_aarch64.manylinux2014_aarch64.whl (31 kB)\n",
      "Requirement already satisfied: setuptools in /opt/conda/lib/python3.10/site-packages (from wandb) (67.7.2)\n",
      "Collecting appdirs>=1.4.3 (from wandb)\n",
      "  Downloading appdirs-1.4.4-py2.py3-none-any.whl (9.6 kB)\n",
      "Requirement already satisfied: protobuf!=4.21.0,<5,>=3.19.0 in /opt/conda/lib/python3.10/site-packages (from wandb) (4.21.12)\n",
      "Collecting deprecated>=1.2.13 (from pathling)\n",
      "  Downloading Deprecated-1.2.14-py2.py3-none-any.whl (9.6 kB)\n",
      "Collecting py4j==0.10.9.7 (from pyspark)\n",
      "  Downloading py4j-0.10.9.7-py2.py3-none-any.whl (200 kB)\n",
      "\u001b[2K     \u001b[90m━━━━━━━━━━━━━━━━━━━━━━━━━━━━━━━━━━━━━━\u001b[0m \u001b[32m200.5/200.5 kB\u001b[0m \u001b[31m35.8 MB/s\u001b[0m eta \u001b[36m0:00:00\u001b[0m\n",
      "\u001b[?25hRequirement already satisfied: numpy>=1.19 in /opt/conda/lib/python3.10/site-packages (from nibabel) (1.23.5)\n",
      "Requirement already satisfied: packaging>=17 in /opt/conda/lib/python3.10/site-packages (from nibabel) (23.1)\n",
      "Requirement already satisfied: certifi in /opt/conda/lib/python3.10/site-packages (from minio) (2023.5.7)\n",
      "Requirement already satisfied: urllib3 in /opt/conda/lib/python3.10/site-packages (from minio) (1.26.15)\n",
      "Requirement already satisfied: charset-normalizer<4,>=2 in /opt/conda/lib/python3.10/site-packages (from requests) (3.1.0)\n",
      "Requirement already satisfied: idna<4,>=2.5 in /opt/conda/lib/python3.10/site-packages (from requests) (3.4)\n",
      "Collecting botocore<1.30.0,>=1.29.161 (from boto3)\n",
      "  Downloading botocore-1.29.161-py3-none-any.whl (10.9 MB)\n",
      "\u001b[2K     \u001b[90m━━━━━━━━━━━━━━━━━━━━━━━━━━━━━━━━━━━━━━━━\u001b[0m \u001b[32m10.9/10.9 MB\u001b[0m \u001b[31m39.5 MB/s\u001b[0m eta \u001b[36m0:00:00\u001b[0m00:01\u001b[0m00:01\u001b[0m\n",
      "\u001b[?25hCollecting jmespath<2.0.0,>=0.7.1 (from boto3)\n",
      "  Downloading jmespath-1.0.1-py3-none-any.whl (20 kB)\n",
      "Collecting s3transfer<0.7.0,>=0.6.0 (from boto3)\n",
      "  Downloading s3transfer-0.6.1-py3-none-any.whl (79 kB)\n",
      "\u001b[2K     \u001b[90m━━━━━━━━━━━━━━━━━━━━━━━━━━━━━━━━━━━━━━━━\u001b[0m \u001b[32m79.8/79.8 kB\u001b[0m \u001b[31m33.8 MB/s\u001b[0m eta \u001b[36m0:00:00\u001b[0m\n",
      "\u001b[?25hRequirement already satisfied: python-dateutil<3.0.0,>=2.1 in /opt/conda/lib/python3.10/site-packages (from botocore<1.30.0,>=1.29.161->boto3) (2.8.2)\n",
      "Collecting wrapt<2,>=1.10 (from deprecated>=1.2.13->pathling)\n",
      "  Downloading wrapt-1.15.0-cp310-cp310-manylinux_2_17_aarch64.manylinux2014_aarch64.whl (78 kB)\n",
      "\u001b[2K     \u001b[90m━━━━━━━━━━━━━━━━━━━━━━━━━━━━━━━━━━━━━━━━\u001b[0m \u001b[32m78.5/78.5 kB\u001b[0m \u001b[31m30.9 MB/s\u001b[0m eta \u001b[36m0:00:00\u001b[0m\n",
      "\u001b[?25hRequirement already satisfied: six>=1.4.0 in /opt/conda/lib/python3.10/site-packages (from docker-pycreds>=0.4.0->wandb) (1.16.0)\n",
      "Requirement already satisfied: gitdb<5,>=4.0.1 in /opt/conda/lib/python3.10/site-packages (from GitPython!=3.1.29,>=1.0.0->wandb) (4.0.10)\n",
      "Requirement already satisfied: smmap<6,>=3.0.1 in /opt/conda/lib/python3.10/site-packages (from gitdb<5,>=4.0.1->GitPython!=3.1.29,>=1.0.0->wandb) (3.0.5)\n",
      "Building wheels for collected packages: pyspark, pathtools\n",
      "  Building wheel for pyspark (setup.py) ... \u001b[?25ldone\n",
      "\u001b[?25h  Created wheel for pyspark: filename=pyspark-3.4.1-py2.py3-none-any.whl size=311285398 sha256=1f051a6f72ea5531f738c551c2af951f5910b07ace2d77435188ef5d1340b08e\n",
      "  Stored in directory: /home/jovyan/.cache/pip/wheels/0d/77/a3/ff2f74cc9ab41f8f594dabf0579c2a7c6de920d584206e0834\n",
      "  Building wheel for pathtools (setup.py) ... \u001b[?25ldone\n",
      "\u001b[?25h  Created wheel for pathtools: filename=pathtools-0.1.2-py3-none-any.whl size=8791 sha256=de154d59dd072c8f8c7acb8162390bc26bd3b005c71936f8ac4dac964e83cc33\n",
      "  Stored in directory: /home/jovyan/.cache/pip/wheels/e7/f3/22/152153d6eb222ee7a56ff8617d80ee5207207a8c00a7aab794\n",
      "Successfully built pyspark pathtools\n",
      "Installing collected packages: py4j, pathtools, appdirs, wrapt, setproctitle, sentry-sdk, pyspark, nibabel, minio, jmespath, docker-pycreds, deprecated, botocore, wandb, s3transfer, pathling, boto3\n",
      "Successfully installed appdirs-1.4.4 boto3-1.26.161 botocore-1.29.161 deprecated-1.2.14 docker-pycreds-0.4.0 jmespath-1.0.1 minio-7.1.15 nibabel-5.1.0 pathling-6.2.2 pathtools-0.1.2 py4j-0.10.9.7 pyspark-3.4.1 s3transfer-0.6.1 sentry-sdk-1.26.0 setproctitle-1.3.2 wandb-0.15.4 wrapt-1.15.0\n"
     ]
    }
   ],
   "source": [
    "!pip install wandb pathling pyspark nibabel minio requests boto3"
   ]
  },
  {
   "cell_type": "code",
   "execution_count": 2,
   "id": "37995d10-fd01-40ff-b3b8-f2ed3c434ba2",
   "metadata": {
    "tags": []
   },
   "outputs": [],
   "source": [
    "import wandb\n",
    "import os\n",
    "from pathling.coding import Coding\n",
    "from pyspark.sql import functions\n",
    "from pathling.udfs import subsumes\n",
    "from utils import configure_notebook_session, get_spark_session, get_pathling_context, \\\n",
    "load_resources, extract_patient_id, extract_subject_id, save_artifact"
   ]
  },
  {
   "cell_type": "code",
   "execution_count": 4,
   "id": "6422c561-8afc-47c5-9935-1b5e7c961ffc",
   "metadata": {
    "tags": []
   },
   "outputs": [
    {
     "name": "stderr",
     "output_type": "stream",
     "text": [
      "\u001b[34m\u001b[1mwandb\u001b[0m: You can find your API key in your browser here: http://wandb:8080/authorize\n",
      "\u001b[34m\u001b[1mwandb\u001b[0m: Paste an API key from your profile and hit enter, or press ctrl+c to quit:"
     ]
    },
    {
     "name": "stdin",
     "output_type": "stream",
     "text": [
      "  ········\n"
     ]
    },
    {
     "name": "stderr",
     "output_type": "stream",
     "text": [
      "\u001b[34m\u001b[1mwandb\u001b[0m: \u001b[32m\u001b[41mERROR\u001b[0m Host must be a url in the form https://some.address.com, received http://wandb:8080\n",
      "\u001b[34m\u001b[1mwandb\u001b[0m: Currently logged in as: \u001b[33mlouismullie\u001b[0m (\u001b[33mlouism\u001b[0m). Use \u001b[1m`wandb login --relogin`\u001b[0m to force relogin\n"
     ]
    },
    {
     "data": {
      "text/html": [
       "Tracking run with wandb version 0.15.4"
      ],
      "text/plain": [
       "<IPython.core.display.HTML object>"
      ]
     },
     "metadata": {},
     "output_type": "display_data"
    },
    {
     "data": {
      "text/html": [
       "Run data is saved locally in <code>/home/jovyan/work/test-jupyter/wandb/run-20230627_030440-juu4gdl6</code>"
      ],
      "text/plain": [
       "<IPython.core.display.HTML object>"
      ]
     },
     "metadata": {},
     "output_type": "display_data"
    },
    {
     "data": {
      "text/html": [
       "Syncing run <strong><a href='http://wandb:8080/louism/diabetes-vaccines-notebook/runs/juu4gdl6' target=\"_blank\">hopeful-microwave-1</a></strong> to <a href='http://wandb:8080/louism/diabetes-vaccines-notebook' target=\"_blank\">Weights & Biases</a> (<a href='https://wandb.me/run' target=\"_blank\">docs</a>)<br/>"
      ],
      "text/plain": [
       "<IPython.core.display.HTML object>"
      ]
     },
     "metadata": {},
     "output_type": "display_data"
    },
    {
     "data": {
      "text/html": [
       " View project at <a href='http://wandb:8080/louism/diabetes-vaccines-notebook' target=\"_blank\">http://wandb:8080/louism/diabetes-vaccines-notebook</a>"
      ],
      "text/plain": [
       "<IPython.core.display.HTML object>"
      ]
     },
     "metadata": {},
     "output_type": "display_data"
    },
    {
     "data": {
      "text/html": [
       " View run at <a href='http://wandb:8080/louism/diabetes-vaccines-notebook/runs/juu4gdl6' target=\"_blank\">http://wandb:8080/louism/diabetes-vaccines-notebook/runs/juu4gdl6</a>"
      ],
      "text/plain": [
       "<IPython.core.display.HTML object>"
      ]
     },
     "metadata": {},
     "output_type": "display_data"
    },
    {
     "name": "stderr",
     "output_type": "stream",
     "text": [
      "\u001b[34m\u001b[1mwandb\u001b[0m: \u001b[33mWARNING\u001b[0m Calling wandb.login() after wandb.init() has no effect.\n",
      "\u001b[34m\u001b[1mwandb\u001b[0m: \u001b[33mWARNING\u001b[0m Calling wandb.login() after wandb.init() has no effect.\n"
     ]
    }
   ],
   "source": [
    "# Configure some constants for the demo\n",
    "\n",
    "PROJECT_NAME = 'diabetes-vaccines-notebook'\n",
    "NOTEBOOK_NAME = 'prepare-data.ipynb'\n",
    "ARTIFACT_NAME = 'training-data'\n",
    "RESOURCES = ['Patient', 'Immunization', 'Condition']\n",
    "START_BIRTH_DATE = '1920-01-01'\n",
    "END_BIRTH_DATE = '2020-01-01'\n",
    "IMMUNIZATION_CODE = '08' # Hepatitis B\n",
    "CONDITION_CODE = '73211009' # Diabetes\n",
    "\n",
    "# Configure notebook and login to wandb\n",
    "configure_notebook_session(NOTEBOOK_NAME)\n",
    "wandb.login()"
   ]
  },
  {
   "cell_type": "code",
   "execution_count": null,
   "id": "af434d22-6bf0-4587-b3b0-cbb992324a63",
   "metadata": {},
   "outputs": [],
   "source": [
    "# Configure Spark, Pathling, and load resources\n",
    "run = wandb.init(project=PROJECT_NAME, job_type=\"data_convert\")\n",
    "spark = get_spark_session()\n",
    "pc = get_pathling_context(spark)\n",
    "resource_data = load_resources(pc, RESOURCES)"
   ]
  },
  {
   "cell_type": "code",
   "execution_count": 5,
   "id": "2cbac80f-9b0b-4860-b637-e5b04000ab69",
   "metadata": {},
   "outputs": [
    {
     "name": "stderr",
     "output_type": "stream",
     "text": [
      "\u001b[34m\u001b[1mwandb\u001b[0m: \u001b[33mWARNING\u001b[0m Calling wandb.login() after wandb.init() has no effect.\n",
      "\u001b[34m\u001b[1mwandb\u001b[0m: \u001b[33mWARNING\u001b[0m Calling wandb.login() after wandb.init() has no effect.\n"
     ]
    },
    {
     "name": "stdout",
     "output_type": "stream",
     "text": [
      "+------+----------+\n",
      "|gender| birthDate|\n",
      "+------+----------+\n",
      "|female|2019-07-16|\n",
      "|female|1974-01-29|\n",
      "|  male|1945-07-09|\n",
      "|  male|2016-06-02|\n",
      "|female|1996-05-28|\n",
      "|female|2017-11-04|\n",
      "|  male|1955-08-27|\n",
      "|female|1942-10-19|\n",
      "|  male|1997-04-10|\n",
      "|  male|1973-03-30|\n",
      "|female|1966-03-08|\n",
      "|  male|1945-07-09|\n",
      "|  male|1955-08-27|\n",
      "|  male|1951-07-26|\n",
      "|  male|1953-03-09|\n",
      "|  male|1987-06-06|\n",
      "|  male|1971-01-09|\n",
      "|female|2005-04-23|\n",
      "|female|1936-10-27|\n",
      "|female|1992-10-01|\n",
      "+------+----------+\n",
      "only showing top 20 rows\n",
      "\n"
     ]
    }
   ],
   "source": [
    "###### 1. FILTERING INITIAL PATIENTS ######\n",
    "\n",
    "# Filtering patients based on birthdate\n",
    "patients = resource_data['Patient']\n",
    "filtered_patients = patients.filter(\n",
    "    (patients.birthDate < END_BIRTH_DATE) & \n",
    "    (patients.birthDate > START_BIRTH_DATE))\n",
    "\n",
    "filtered_patients.select('gender', 'birthDate').show()"
   ]
  },
  {
   "cell_type": "code",
   "execution_count": 6,
   "id": "8c62e88e-f57b-4cf3-8dfc-722560c7cf70",
   "metadata": {},
   "outputs": [
    {
     "name": "stderr",
     "output_type": "stream",
     "text": [
      "\u001b[34m\u001b[1mwandb\u001b[0m: \u001b[33mWARNING\u001b[0m Calling wandb.login() after wandb.init() has no effect.\n",
      "\u001b[34m\u001b[1mwandb\u001b[0m: \u001b[33mWARNING\u001b[0m Calling wandb.login() after wandb.init() has no effect.\n"
     ]
    },
    {
     "name": "stdout",
     "output_type": "stream",
     "text": [
      "+--------------------+----+-------------+\n",
      "|                  id|code|is_vaccinated|\n",
      "+--------------------+----+-------------+\n",
      "|d9b90399-0504-4f1...|  08|         true|\n",
      "|e0f57407-86ed-405...| 140|        false|\n",
      "|e9adac47-eb98-4fc...|  08|         true|\n",
      "|55c11701-518c-4ef...|  08|         true|\n",
      "|d9b90399-0504-4f1...|  08|         true|\n",
      "|55c11701-518c-4ef...|  08|         true|\n",
      "|e0f57407-86ed-405...| 140|        false|\n",
      "|d9b90399-0504-4f1...|  49|        false|\n",
      "|d9b90399-0504-4f1...| 119|        false|\n",
      "|d9b90399-0504-4f1...|  10|        false|\n",
      "|d9b90399-0504-4f1...|  20|        false|\n",
      "|55c11701-518c-4ef...|  49|        false|\n",
      "|d9b90399-0504-4f1...| 133|        false|\n",
      "|55c11701-518c-4ef...| 119|        false|\n",
      "|55c11701-518c-4ef...|  10|        false|\n",
      "|55c11701-518c-4ef...|  20|        false|\n",
      "|55c11701-518c-4ef...| 133|        false|\n",
      "|d9b90399-0504-4f1...|  49|        false|\n",
      "|d9b90399-0504-4f1...| 119|        false|\n",
      "|d9b90399-0504-4f1...|  10|        false|\n",
      "+--------------------+----+-------------+\n",
      "only showing top 20 rows\n",
      "\n"
     ]
    }
   ],
   "source": [
    "###### 2. SELECTING HEP B IMMUNIZATIONS ######\n",
    "\n",
    "# Joining filtered patients with immunizations\n",
    "immunizations = resource_data['Immunization']\n",
    "patients_immunizations = filtered_patients.join(\n",
    "    immunizations.select('patient', 'vaccineCode'),\n",
    "    filtered_patients.id == extract_patient_id(immunizations),\n",
    "    'left_outer'\n",
    ")\n",
    "\n",
    "# Selecting patient id and their vaccine coding\n",
    "patients_immunizations = patients_immunizations.select(\n",
    "    filtered_patients.id,\n",
    "    functions.explode(\n",
    "        patients_immunizations.vaccineCode.coding.getField('code')\n",
    "    ).alias('code')\n",
    ")\n",
    "\n",
    "# Checking patients who received the hepatitis B vaccine\n",
    "patients_immunizations = patients_immunizations.withColumn(\n",
    "    'is_vaccinated',\n",
    "    patients_immunizations.code == IMMUNIZATION_CODE\n",
    ")\n",
    "\n",
    "patients_immunizations.show()"
   ]
  },
  {
   "cell_type": "code",
   "execution_count": 7,
   "id": "9cdb9083-b8dc-4ee9-ae79-de5a55ed57ac",
   "metadata": {},
   "outputs": [
    {
     "name": "stderr",
     "output_type": "stream",
     "text": [
      "\u001b[34m\u001b[1mwandb\u001b[0m: \u001b[33mWARNING\u001b[0m Calling wandb.login() after wandb.init() has no effect.\n",
      "\u001b[34m\u001b[1mwandb\u001b[0m: \u001b[33mWARNING\u001b[0m Calling wandb.login() after wandb.init() has no effect.\n"
     ]
    },
    {
     "name": "stdout",
     "output_type": "stream",
     "text": [
      "+--------------------+--------------------+------------+\n",
      "|                  id|             codings|has_diabetes|\n",
      "+--------------------+--------------------+------------+\n",
      "|e9adac47-eb98-4fc...|                null|        null|\n",
      "|c60ac337-2ebe-48f...|{null, http://sno...|       false|\n",
      "|c60ac337-2ebe-48f...|{null, http://sno...|       false|\n",
      "|c60ac337-2ebe-48f...|{null, http://sno...|       false|\n",
      "|c60ac337-2ebe-48f...|{null, http://sno...|       false|\n",
      "|c60ac337-2ebe-48f...|{null, http://sno...|       false|\n",
      "|c60ac337-2ebe-48f...|{null, http://sno...|       false|\n",
      "|c60ac337-2ebe-48f...|{null, http://sno...|       false|\n",
      "|c60ac337-2ebe-48f...|{null, http://sno...|       false|\n",
      "|c60ac337-2ebe-48f...|{null, http://sno...|       false|\n",
      "|cc31e8b9-9d75-4f7...|{null, http://sno...|       false|\n",
      "|cc31e8b9-9d75-4f7...|{null, http://sno...|       false|\n",
      "|cc31e8b9-9d75-4f7...|{null, http://sno...|       false|\n",
      "|cc31e8b9-9d75-4f7...|{null, http://sno...|       false|\n",
      "|cc31e8b9-9d75-4f7...|{null, http://sno...|       false|\n",
      "|cc31e8b9-9d75-4f7...|{null, http://sno...|       false|\n",
      "|cc31e8b9-9d75-4f7...|{null, http://sno...|       false|\n",
      "|55c11701-518c-4ef...|{null, http://sno...|       false|\n",
      "|55c11701-518c-4ef...|{null, http://sno...|       false|\n",
      "|55c11701-518c-4ef...|{null, http://sno...|       false|\n",
      "+--------------------+--------------------+------------+\n",
      "only showing top 20 rows\n",
      "\n"
     ]
    }
   ],
   "source": [
    "###### 3. SELECTING DIABETIC PATIENTS ######\n",
    "\n",
    "# Joining filtered patients with conditions\n",
    "conditions = resource_data['Condition']\n",
    "patients_conditions = filtered_patients.join(\n",
    "    conditions.select('subject', 'code'),\n",
    "    filtered_patients.id == extract_subject_id(conditions),\n",
    "    'left_outer'\n",
    ")\n",
    "\n",
    "# Selecting patient id and their condition coding\n",
    "patients_conditions = patients_conditions.select(\n",
    "    filtered_patients.id,\n",
    "    functions.explode_outer(conditions.code.getField('coding')) \\\n",
    "    .alias('codings')\n",
    ")\n",
    "\n",
    "# Checking patients who have diabetes\n",
    "condition_coding = Coding(system='http://snomed.info/sct', code=CONDITION_CODE)\n",
    "patients_conditions = patients_conditions.withColumn(\n",
    "    'has_diabetes',\n",
    "    subsumes(condition_coding, patients_conditions.codings)                                 \n",
    ")\n",
    "\n",
    "patients_conditions.show()"
   ]
  },
  {
   "cell_type": "code",
   "execution_count": 8,
   "id": "836b52e1-652b-48c5-ae1f-5bc823f3d44d",
   "metadata": {},
   "outputs": [
    {
     "name": "stderr",
     "output_type": "stream",
     "text": [
      "\u001b[34m\u001b[1mwandb\u001b[0m: \u001b[33mWARNING\u001b[0m Calling wandb.login() after wandb.init() has no effect.\n",
      "\u001b[34m\u001b[1mwandb\u001b[0m: \u001b[33mWARNING\u001b[0m Calling wandb.login() after wandb.init() has no effect.\n"
     ]
    },
    {
     "name": "stdout",
     "output_type": "stream",
     "text": [
      "+-------------+------------+---------+\n",
      "|is_vaccinated|has_diabetes|count(id)|\n",
      "+-------------+------------+---------+\n",
      "|         true|       false|       18|\n",
      "|         true|        null|        2|\n",
      "|        false|       false|      114|\n",
      "|        false|        true|        8|\n",
      "|        false|        null|        1|\n",
      "+-------------+------------+---------+\n",
      "\n"
     ]
    }
   ],
   "source": [
    "###### 4. JOINING THE DIFFERENT DATA SOURCES ######\n",
    "\n",
    "# Joining vaccine and diabetes dataframes to identify unvaccinated high risk patients\n",
    "df_a = patients_immunizations.withColumn('id_a', patients_immunizations.id)\n",
    "df_b = patients_conditions.withColumn('id_b', patients_conditions.id)\n",
    "two_by_two = df_a.join(df_b, functions.col('id_a') == functions.col('id_b'), 'left_outer')\n",
    " \n",
    "# Aggregating data to get a 2x2 table of diabetes (Y/N) and vaccination (Y/N)\n",
    "aggregate = two_by_two.groupBy(\n",
    "    patients_immunizations.is_vaccinated, \n",
    "    patients_conditions.has_diabetes\n",
    ").agg(\n",
    "    functions.countDistinct(patients_immunizations.id)\n",
    ")\n",
    "\n",
    "# Display the results\n",
    "aggregate.show()"
   ]
  },
  {
   "cell_type": "code",
   "execution_count": 9,
   "id": "7a840f5d-3d5c-46e5-ba8d-db0a5dc3777f",
   "metadata": {},
   "outputs": [
    {
     "name": "stderr",
     "output_type": "stream",
     "text": [
      "\u001b[34m\u001b[1mwandb\u001b[0m: \u001b[33mWARNING\u001b[0m Calling wandb.login() after wandb.init() has no effect.\n",
      "\u001b[34m\u001b[1mwandb\u001b[0m: \u001b[33mWARNING\u001b[0m Calling wandb.login() after wandb.init() has no effect.\n",
      "\u001b[34m\u001b[1mwandb\u001b[0m: \u001b[33mWARNING\u001b[0m Calling wandb.login() after wandb.init() has no effect.\n",
      "\u001b[34m\u001b[1mwandb\u001b[0m: \u001b[33mWARNING\u001b[0m Calling wandb.login() after wandb.init() has no effect.\n"
     ]
    }
   ],
   "source": [
    "# Optionally, log it as a wandb Table for viewing\n",
    "table = wandb.Table(dataframe=aggregate.toPandas())\n",
    "\n",
    "run.log({\"hep_b_vaccination_in_diabetics\": table})"
   ]
  },
  {
   "cell_type": "code",
   "execution_count": 10,
   "id": "7e4cafcc-63d1-4671-a13e-19557e9ef9e4",
   "metadata": {},
   "outputs": [
    {
     "name": "stderr",
     "output_type": "stream",
     "text": [
      "\u001b[34m\u001b[1mwandb\u001b[0m: Generating checksum for up to 10000 objects with prefix \"datasets/diabetes-vaccines-notebook/training-data.parquet\"... Done. 0.0s\n",
      "\u001b[34m\u001b[1mwandb\u001b[0m: \u001b[33mWARNING\u001b[0m Calling wandb.login() after wandb.init() has no effect.\n",
      "\u001b[34m\u001b[1mwandb\u001b[0m: \u001b[33mWARNING\u001b[0m Calling wandb.login() after wandb.init() has no effect.\n",
      "\u001b[34m\u001b[1mwandb\u001b[0m: \u001b[33mWARNING\u001b[0m Calling wandb.login() after wandb.init() has no effect.\n",
      "\u001b[34m\u001b[1mwandb\u001b[0m: \u001b[33mWARNING\u001b[0m Calling wandb.login() after wandb.init() has no effect.\n"
     ]
    }
   ],
   "source": [
    "# Write the results to Minio in Parquet format using Spark\n",
    "save_artifact(aggregate, PROJECT_NAME, ARTIFACT_NAME, run)"
   ]
  },
  {
   "cell_type": "code",
   "execution_count": 11,
   "id": "529c1b14-f048-4a57-8629-82288b211ccc",
   "metadata": {
    "tags": []
   },
   "outputs": [
    {
     "name": "stderr",
     "output_type": "stream",
     "text": [
      "\u001b[34m\u001b[1mwandb\u001b[0m: \u001b[33mWARNING\u001b[0m Calling wandb.login() after wandb.init() has no effect.\n",
      "\u001b[34m\u001b[1mwandb\u001b[0m: \u001b[33mWARNING\u001b[0m Calling wandb.login() after wandb.init() has no effect.\n"
     ]
    },
    {
     "data": {
      "text/html": [
       "Waiting for W&B process to finish... <strong style=\"color:green\">(success).</strong>"
      ],
      "text/plain": [
       "<IPython.core.display.HTML object>"
      ]
     },
     "metadata": {},
     "output_type": "display_data"
    },
    {
     "data": {
      "application/vnd.jupyter.widget-view+json": {
       "model_id": "b45c4a936bf34e7cb48607b3c0a3b73e",
       "version_major": 2,
       "version_minor": 0
      },
      "text/plain": [
       "VBox(children=(Label(value='0.076 MB of 0.076 MB uploaded (0.023 MB deduped)\\r'), FloatProgress(value=1.0, max…"
      ]
     },
     "metadata": {},
     "output_type": "display_data"
    },
    {
     "data": {
      "text/html": [
       " View run <strong style=\"color:#cdcd00\">hopeful-microwave-1</strong> at: <a href='http://wandb:8080/louism/diabetes-vaccines-notebook/runs/juu4gdl6' target=\"_blank\">http://wandb:8080/louism/diabetes-vaccines-notebook/runs/juu4gdl6</a><br/>Synced 6 W&B file(s), 1 media file(s), 7 artifact file(s) and 1 other file(s)"
      ],
      "text/plain": [
       "<IPython.core.display.HTML object>"
      ]
     },
     "metadata": {},
     "output_type": "display_data"
    },
    {
     "data": {
      "text/html": [
       "Find logs at: <code>./wandb/run-20230627_030440-juu4gdl6/logs</code>"
      ],
      "text/plain": [
       "<IPython.core.display.HTML object>"
      ]
     },
     "metadata": {},
     "output_type": "display_data"
    }
   ],
   "source": [
    "run.finish()"
   ]
  }
 ],
 "metadata": {
  "kernelspec": {
   "display_name": "Python 3 (ipykernel)",
   "language": "python",
   "name": "python3"
  },
  "language_info": {
   "codemirror_mode": {
    "name": "ipython",
    "version": 3
   },
   "file_extension": ".py",
   "mimetype": "text/x-python",
   "name": "python",
   "nbconvert_exporter": "python",
   "pygments_lexer": "ipython3",
   "version": "3.10.11"
  }
 },
 "nbformat": 4,
 "nbformat_minor": 5
}
